{
 "cells": [
  {
   "attachments": {},
   "cell_type": "markdown",
   "metadata": {},
   "source": [
    "# Worksheet 02\n",
    "\n",
    "Name:  Maria Eusse Henao\n",
    "UID: U97793762\n",
    "\n",
    "### Topics\n",
    "\n",
    "- Effective Programming\n",
    "\n",
    "### Effective Programming\n",
    "\n",
    "a) What is a drawback of the top down approach?"
   ]
  },
  {
   "attachments": {},
   "cell_type": "markdown",
   "metadata": {},
   "source": [
    "Starts understanding the whole picture, what everything should do as a whole and start dividing the concept in smaller problems and functions, keep increasing the \"branches\" adding every feature, until you get to the last layer of the tree. A drawback can be that you create a very complex and big method to gather all functionality, instead of dividing it in many small parts which may lead to overlooking important details. "
   ]
  },
  {
   "attachments": {},
   "cell_type": "markdown",
   "metadata": {},
   "source": [
    "b) What is a drawback of the bottom up approach?"
   ]
  },
  {
   "attachments": {},
   "cell_type": "markdown",
   "metadata": {},
   "source": [
    "Bottom-up approach start creating features and functions and change them as you go. It gives more flexibility but there is also less clarity of the whole concept and could end up doing extra work that the program doesn't end up needing. "
   ]
  },
  {
   "attachments": {},
   "cell_type": "markdown",
   "metadata": {},
   "source": [
    "c) What are 3 things you can do to have a better debugging experience?"
   ]
  },
  {
   "attachments": {},
   "cell_type": "markdown",
   "metadata": {},
   "source": [
    "- Carefully read the error \n",
    "- Mentally trace your code and re-read it to see if it is logicallt correct\n",
    "- Try to question if everything is implemented correctly and if everything is communicating appropiately\n",
    "- don't panic, take breaks \n",
    "- look for help online"
   ]
  },
  {
   "attachments": {},
   "cell_type": "markdown",
   "metadata": {},
   "source": [
    "d) Follow along with the live coding. You can write your code here:"
   ]
  },
  {
   "cell_type": "code",
   "execution_count": null,
   "metadata": {},
   "outputs": [],
   "source": [
    "class Board:\n",
    "\t\n",
    "\tdef __init__(self):\n",
    "\t\tself.board = [[\"_\" for i in range(8) for _ in range(8) ]]\n",
    "\t\t\n",
    "\t\t\n",
    "\t\t\n",
    "\tdef __repr__(self):\n",
    "\t\tres = \"\"\n",
    "\t\tfor row in self.board:\n",
    "\t\t\tfor col in row:\n",
    "\t\t\t\tres += col\n",
    "\t\t\t\tres +=\" \"\n",
    "\t\t\tres += \"\\n\"\n",
    "\t\treturn res\n",
    "\t\t\n",
    "\t\n",
    "\t\n",
    "\tdef is_legal_col(self, row, col):\n",
    "\t\tfor j in range(len(self.board)):\n",
    "\t\t\tif self.board[row][j] == \"Q\":\n",
    "\t\t\t\treturn False\n",
    "\t\treturn True \n",
    "\t\t\n",
    "\t\t\n",
    "\t\t\n",
    "\t\t\n",
    "\tdef is_on_board(self, row, col):\n",
    "\t\treturn row >= 0 and row > 8:\n",
    "\t\t\n",
    "\t\t\n",
    "\t\t\n",
    "\tdef is_legal_diag(self, row, col):\n",
    "\t\tfor i in range (len(self.board)):\n",
    "\t\t\tif self.is_on_board(row-i, col-i) and self.board[row-i][col-i] == \"Q\":\n",
    "\t\t\t\treturn false\n",
    "\t\t\t\n",
    "\t\t\n",
    "\t\t\n",
    "\tdef is_legal(self, row, col):\n",
    "\t\tif not self.is_legal_row(row, col):\n",
    "\t\t\treturn false\n",
    "\t\tif not self.is_legal_col(row, col):\n",
    "\t\t\treturn false\n",
    "\t\tif not self.is_legal_diag(row, col):\n",
    "\t\t\treturn False \n",
    "\t\treturn True\n",
    "\t\t\n",
    "\t\t\n",
    "\t\t\n",
    "\tdef set_queen_at(self, row, col):\n",
    "\t\tself.board[row][col]  = \"Q\"\n",
    "\t\t\n",
    "\t\t\n",
    "\t\t\n",
    "\tdef unset_queen_on(self, row):\n",
    "\t\tSelf.board[row] = [\"_\" for I in range(8)]\n",
    "\t\t\n",
    "\t\t\n",
    "\t\t\n",
    "\tdef get_queen_on(self, row):\n",
    "\t\tfor col in range(len(self.board)):\n",
    "\t\t\tif self.board[row][col] == \"Q\":\n",
    "\t\t\t\treturn col \n",
    "\t\traise ValueError(\"progammer error\")\n",
    "\t\t\n",
    "\t\t\n",
    "\t\t\n",
    "\t\t\n",
    "\tdef search(self):\n",
    "\t\trow=0\n",
    "\t\tcol= 0\n",
    "\n",
    "\t\twhile row >= 0:\n",
    "\t\t\tif row < 8:\n",
    "\t\t\t\tif self.is_legal(row,col):\n",
    "\t\t\t\t\tself.set_queen_at(row,col)\n",
    "\t\t\t\t\trow+=1\n",
    "\t\t\t\t\tcol =0\n",
    "\t\t\t\telse:\n",
    "\t\t\t\t\tcol +=1\n",
    "\t\t\t\t\twhile col >= 8:\n",
    "\t\t\t\t\t\tself.unset_queen_on(row-1)\n",
    "\t\t\t\t\t\tcol= self.get_queen_on(row-1)\n",
    "\t\t\t\t\t\tcol +=1\n",
    "\t\t\t\t\t\trow -= 1\n",
    "\t\t\telse:\n",
    "\t\t\t\tprint(\"found solution\")\n",
    "\t\t\t\tprint(self)\n",
    "\t\t\t\twhile col >= 8: \n",
    "\t\t\t\t\tcol = self.get_queen_on(row-1)\n",
    "\t\t\t\t\tself.unset_queen_on(row-1)\n",
    "\t\t\t\t\tcol +=1\n",
    "\t\t\t\t\trow +=1\n",
    "\t\t\t\t\t\n",
    "\t\t\n",
    "\t\t\n",
    "\t\t\n",
    "my_board = Board()\n",
    "print(my_board)\n"
   ]
  }
 ],
 "metadata": {
  "kernelspec": {
   "display_name": "Python 3",
   "language": "python",
   "name": "python3"
  },
  "language_info": {
   "name": "python",
   "version": "3.11.1 (main, Dec  7 2022, 00:00:00) [GCC 12.2.1 20221121 (Red Hat 12.2.1-4)]"
  },
  "orig_nbformat": 4,
  "vscode": {
   "interpreter": {
    "hash": "76ca05dc3ea24b2e3b98cdb7774adfbb40773424bf5109b477fd793f623715af"
   }
  }
 },
 "nbformat": 4,
 "nbformat_minor": 2
}
